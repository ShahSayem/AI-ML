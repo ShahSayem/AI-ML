{
 "cells": [
  {
   "cell_type": "code",
   "execution_count": null,
   "id": "a2972e29",
   "metadata": {},
   "outputs": [],
   "source": [
    "import torch\n",
    "from torchvision.utils import save_image\n",
    "from ddpm import Diffusion\n",
    "from utils import get_data\n",
    "import argparse"
   ]
  },
  {
   "cell_type": "code",
   "execution_count": null,
   "id": "87af6448",
   "metadata": {},
   "outputs": [],
   "source": [
    "parser = argparse.ArgumentParser()\n",
    "args = parser.parse_args()\n",
    "args.batch_size = 1  # 5\n",
    "args.image_size = 64\n",
    "args.dataset_path = r\"C:\\Users\\shah_sayem\\datasets\\landscape_img_folder\""
   ]
  },
  {
   "cell_type": "code",
   "execution_count": null,
   "id": "af7e0f97",
   "metadata": {},
   "outputs": [],
   "source": [
    "dataloader = get_data(args)\n",
    "\n",
    "diff = Diffusion(device=\"cpu\")\n",
    "\n",
    "image = next(iter(dataloader))[0]\n",
    "t = torch.Tensor([50, 100, 150, 200, 300, 600, 700, 999]).long()\n",
    "\n",
    "noised_image, _ = diff.noise_images(image, t)\n",
    "save_image(noised_image.add(1).mul(0.5), \"noise.jpg\")"
   ]
  }
 ],
 "metadata": {
  "language_info": {
   "name": "python"
  }
 },
 "nbformat": 4,
 "nbformat_minor": 5
}
