{
  "cells": [
    {
      "cell_type": "markdown",
      "metadata": {
        "id": "VkO-mNunT8ru"
      },
      "source": [
        "Krish Naik: https://www.youtube.com/watch?v=bFB4zqkcatU"
      ]
    },
    {
      "cell_type": "code",
      "execution_count": null,
      "metadata": {
        "id": "_DnFFIMAUKtv",
        "collapsed": true
      },
      "outputs": [],
      "source": [
        "## Libraries Required\n",
        "!pip install langchain_huggingface\n",
        "##For API calls\n",
        "!pip install huggingface_hub\n",
        "!pip install transformers\n",
        "!pip install accelerate\n",
        "!pip install bitsandbytes\n",
        "!pip install langchain\n"
      ]
    },
    {
      "cell_type": "code",
      "source": [
        "from google.colab import userdata\n",
        "sec_key = userdata.get('HF_TOKEN')\n",
        "\n",
        "# print(sec_key)"
      ],
      "metadata": {
        "id": "o8CXfdtTc5r2"
      },
      "execution_count": 3,
      "outputs": []
    },
    {
      "cell_type": "markdown",
      "source": [
        "**HuggingFace Endpoint** (Call model *remotely*)"
      ],
      "metadata": {
        "id": "IlPU1-h7cc98"
      }
    },
    {
      "cell_type": "code",
      "source": [
        "from google.colab import userdata\n",
        "sec_key = userdata.get('HUGGINGFACE_API_TOKEN')"
      ],
      "metadata": {
        "id": "C75n3gsvk627"
      },
      "execution_count": 4,
      "outputs": []
    },
    {
      "cell_type": "code",
      "source": [
        "from langchain_huggingface import HuggingFaceEndpoint\n",
        "import os\n",
        "os.environ['HUGGINGFACEHUB_API_TOKEN'] = sec_key"
      ],
      "metadata": {
        "id": "5jCzIthtcoUe"
      },
      "execution_count": 5,
      "outputs": []
    },
    {
      "cell_type": "code",
      "source": [
        "repo_id = 'mistralai/Mistral-7B-Instruct-v0.2'\n",
        "llm = HuggingFaceEndpoint(repo_id=repo_id, max_length=1024, temperature=0.7, token=sec_key)"
      ],
      "metadata": {
        "id": "1qfeFqOaRD_R",
        "colab": {
          "base_uri": "https://localhost:8080/"
        },
        "outputId": "c9e2a38a-9be5-4ebc-a98d-e32c17d6ad96"
      },
      "execution_count": 7,
      "outputs": [
        {
          "output_type": "stream",
          "name": "stderr",
          "text": [
            "WARNING:langchain_huggingface.llms.huggingface_endpoint:WARNING! max_length is not default parameter.\n",
            "                    max_length was transferred to model_kwargs.\n",
            "                    Please make sure that max_length is what you intended.\n",
            "WARNING:langchain_huggingface.llms.huggingface_endpoint:WARNING! token is not default parameter.\n",
            "                    token was transferred to model_kwargs.\n",
            "                    Please make sure that token is what you intended.\n"
          ]
        },
        {
          "output_type": "stream",
          "name": "stdout",
          "text": [
            "The token has not been saved to the git credentials helper. Pass `add_to_git_credential=True` in this function directly or `--add-to-git-credential` if using via `huggingface-cli` if you want to set the git credential as well.\n",
            "Token is valid (permission: read).\n",
            "Your token has been saved to /root/.cache/huggingface/token\n",
            "Login successful\n"
          ]
        }
      ]
    },
    {
      "cell_type": "code",
      "source": [
        "llm.invoke('What is Machine Learning?')"
      ],
      "metadata": {
        "colab": {
          "base_uri": "https://localhost:8080/",
          "height": 244
        },
        "id": "LAk7weUifBxJ",
        "outputId": "24f55ac7-d440-4a5e-adb2-3025a7a7896e"
      },
      "execution_count": null,
      "outputs": [
        {
          "output_type": "execute_result",
          "data": {
            "text/plain": [
              "'\\n\\nMachine learning (ML) is a subset of artificial intelligence (AI) that provides systems the ability to automatically learn and improve from experience without being explicitly programmed. It focuses on the development of computer programs that can access data and use it to learn for themselves. The process of learning begins with observations or data, such as examples, direct experience, or instruction, in order to look for patterns in data and make better decisions in the future based on the examples that we provide. The primary aim is to allow the computers to learn automatically without human intervention or assistance and adjust actions accordingly.\\n\\nMachine learning algorithms build a mathematical model based on sample data in order to make predictions or decisions without being explicitly programmed to perform the task. ML algorithms are designed to learn from data and then make a decision based on that data. They can be supervised, unsupervised, or semi-supervised.\\n\\nSupervised Learning: The model is trained using labeled data, which means that the data has both the input and the desired output. The algorithm learns to identify patterns in the input data and then uses that knowledge to make predictions about new data.\\n\\nUnsupervised Learning: The model is trained using unlabeled data, which means that the data does not have a desired output. The algorithm learns to identify patterns and structures in the data without any prior knowledge of the desired output.\\n\\nSemi-supervised Learning: The model is trained using a combination of labeled and unlabeled data. The algorithm learns to identify patterns in the data and then uses the labeled data to refine its predictions.\\n\\nMachine learning is used in a wide range of applications, including image and speech recognition, natural language processing, and decision-making processes. It is also used in various industries such as finance, healthcare, marketing, and transportation for predictive modeling and data analysis.\\n\\nThe future of machine learning is very promising as the amount of data being generated is growing exponentially and machine learning algorithms are becoming more sophisticated. Machine learning is expected to revolutionize various industries and change the way we live and work.'"
            ],
            "application/vnd.google.colaboratory.intrinsic+json": {
              "type": "string"
            }
          },
          "metadata": {},
          "execution_count": 10
        }
      ]
    },
    {
      "cell_type": "code",
      "source": [
        "repo_id2 = 'mistralai/Mistral-7B-Instruct-v0.3'\n",
        "llm2 = HuggingFaceEndpoint(repo_id=repo_id2, max_length=1024, temperature=0.7, token=sec_key)"
      ],
      "metadata": {
        "collapsed": true,
        "id": "yCp1SFz8gsX9",
        "colab": {
          "base_uri": "https://localhost:8080/"
        },
        "outputId": "241a472e-8de3-41c3-c5b5-16b482fe65e7"
      },
      "execution_count": 8,
      "outputs": [
        {
          "output_type": "stream",
          "name": "stderr",
          "text": [
            "WARNING:langchain_huggingface.llms.huggingface_endpoint:WARNING! max_length is not default parameter.\n",
            "                    max_length was transferred to model_kwargs.\n",
            "                    Please make sure that max_length is what you intended.\n",
            "WARNING:langchain_huggingface.llms.huggingface_endpoint:WARNING! token is not default parameter.\n",
            "                    token was transferred to model_kwargs.\n",
            "                    Please make sure that token is what you intended.\n"
          ]
        },
        {
          "output_type": "stream",
          "name": "stdout",
          "text": [
            "The token has not been saved to the git credentials helper. Pass `add_to_git_credential=True` in this function directly or `--add-to-git-credential` if using via `huggingface-cli` if you want to set the git credential as well.\n",
            "Token is valid (permission: read).\n",
            "Your token has been saved to /root/.cache/huggingface/token\n",
            "Login successful\n"
          ]
        }
      ]
    },
    {
      "cell_type": "code",
      "source": [
        "llm2.invoke('What is Machine Learning?')"
      ],
      "metadata": {
        "colab": {
          "base_uri": "https://localhost:8080/",
          "height": 279
        },
        "id": "8217LXVCiCuD",
        "outputId": "3ff15b5d-e7af-4d8b-ad1f-34e1b98bbb22"
      },
      "execution_count": null,
      "outputs": [
        {
          "output_type": "execute_result",
          "data": {
            "text/plain": [
              "'\\n\\nMachine learning (ML) is a subset of artificial intelligence (AI) that provides systems the ability to automatically learn and improve from experience without being explicitly programmed. Machine learning focuses on the development of computer programs that can access data and use it to learn for themselves.\\n\\nThe process of learning begins with observations or data, such as examples, direct experience, or instruction, in order to look for patterns in data and make better decisions in the future based on the examples that we provide. The primary aim is to allow the computers to learn automatically without human intervention or assistance and adjust actions accordingly.\\n\\nMachine learning is a very broad concept that can be divided into several categories, including supervised learning, unsupervised learning, semi-supervised learning, reinforcement learning, and deep learning.\\n\\n- Supervised learning: A type of machine learning where the model is trained on a labeled dataset. The goal is to learn a mapping function from input to output based on the provided examples.\\n- Unsupervised learning: A type of machine learning where the model is trained on an unlabeled dataset. The goal is to find patterns or structure in the data without any prior knowledge of the correct output.\\n- Semi-supervised learning: A type of machine learning where the model is trained on a combination of labeled and unlabeled data. The goal is to learn a mapping function from input to output based on the provided examples, with the help of unlabeled data to improve the performance.\\n- Reinforcement learning: A type of machine learning where an agent learns to make decisions by taking actions in an environment to achieve a goal. The agent receives rewards or punishments based on the actions it takes and the state of the environment.\\n- Deep learning: A subfield of machine learning that uses artificial neural networks with many layers to learn and make decisions. Deep learning models can learn to recognize patterns and make predictions from large amounts of data.\\n\\nMachine learning has numerous applications in various industries, such as finance, healthcare, retail, and transportation, and it is used for tasks such as image and speech recognition, natural language processing, and fraud detection.\\n\\nBenefits of Machine Learning:\\n\\n1. Automation: Machine learning can automate repetitive tasks, freeing up human resources for more complex tasks.\\n2. Improved accuracy: Machine learning models can learn from data and improve their accuracy over time, making them more reliable than traditional rule-based systems.\\n'"
            ],
            "application/vnd.google.colaboratory.intrinsic+json": {
              "type": "string"
            }
          },
          "metadata": {},
          "execution_count": 13
        }
      ]
    },
    {
      "cell_type": "code",
      "source": [
        "from langchain import PromptTemplate, LLMChain\n",
        "\n",
        "question = 'Who won in libaration war 1971?'\n",
        "\n",
        "template = \"\"\"Question: {question}\n",
        "\n",
        "Answer: Let's think step by step.\"\"\"\n",
        "\n",
        "prompt = PromptTemplate(template=template, input_variables=['question'])\n",
        "\n",
        "print(prompt)"
      ],
      "metadata": {
        "colab": {
          "base_uri": "https://localhost:8080/"
        },
        "id": "HNwjllV9ieF6",
        "outputId": "39792d02-cd25-4844-802c-8f51c7fd4b88"
      },
      "execution_count": 9,
      "outputs": [
        {
          "output_type": "stream",
          "name": "stdout",
          "text": [
            "input_variables=['question'] template=\"Question: {question}\\n\\nAnswer: Let's think step by step.\"\n"
          ]
        }
      ]
    },
    {
      "cell_type": "code",
      "source": [
        "llm_chain = LLMChain(prompt=prompt, llm=llm2)\n",
        "print(llm_chain.invoke(question))"
      ],
      "metadata": {
        "colab": {
          "base_uri": "https://localhost:8080/"
        },
        "id": "l-TXtNpZjjOg",
        "outputId": "394c5c6d-e488-4b2f-a760-f6f4690f52a3"
      },
      "execution_count": 10,
      "outputs": [
        {
          "output_type": "stream",
          "name": "stderr",
          "text": [
            "<ipython-input-10-e17bdd169875>:1: LangChainDeprecationWarning: The class `LLMChain` was deprecated in LangChain 0.1.17 and will be removed in 1.0. Use RunnableSequence, e.g., `prompt | llm` instead.\n",
            "  llm_chain = LLMChain(prompt=prompt, llm=llm2)\n"
          ]
        },
        {
          "output_type": "stream",
          "name": "stdout",
          "text": [
            "{'question': 'Who won in libaration war 1971?', 'text': \"\\n\\n1. The Liberation War of 1971 was fought in Pakistan (then East Pakistan) by the Mukti Bahini (a guerrilla force) with the support of the Indian military.\\n\\n2. The war ended on December 16, 1971, with the unconditional surrender of Pakistan's armed forces in East Pakistan.\\n\\n3. As a result of the war, East Pakistan became the independent nation of Bangladesh.\\n\\n4. So, in essence, Bangladesh and India won the Liberation War of 1971.\"}\n"
          ]
        }
      ]
    },
    {
      "cell_type": "markdown",
      "source": [
        "**HuggingFace Pipeline** (run model *locally* - downloaded)"
      ],
      "metadata": {
        "id": "pUJMLLgomwo7"
      }
    },
    {
      "cell_type": "code",
      "source": [
        "from langchain_huggingface import HuggingFacePipeline\n",
        "from transformers import AutoModelForCausalLM, AutoTokenizer, pipeline"
      ],
      "metadata": {
        "id": "xa7JXopHniKA"
      },
      "execution_count": 12,
      "outputs": []
    },
    {
      "cell_type": "code",
      "source": [
        "#Model will download & then execute\n",
        "model_id = 'gpt2'\n",
        "model = AutoModelForCausalLM.from_pretrained(model_id)\n",
        "tokenizer = AutoTokenizer.from_pretrained(model_id)"
      ],
      "metadata": {
        "id": "xgjkeA-sosqu"
      },
      "execution_count": null,
      "outputs": []
    },
    {
      "cell_type": "code",
      "source": [
        "pipe = pipeline('text-generation', model=model, tokenizer=tokenizer, max_new_tokens=100)\n",
        "hf = HuggingFacePipeline(pipeline=pipe)"
      ],
      "metadata": {
        "id": "aRlX51fAr_8q"
      },
      "execution_count": null,
      "outputs": []
    },
    {
      "cell_type": "code",
      "source": [
        "hf.invoke('What is Machine Learning?')"
      ],
      "metadata": {
        "id": "JEz-9lYbvevd"
      },
      "execution_count": null,
      "outputs": []
    },
    {
      "cell_type": "code",
      "source": [
        "# Use HuggingFacePipelines with GPU\n",
        "gpu_llm = HuggingFacePipeline.from_model_id(\n",
        "    model_id=model_id,\n",
        "    task='text-generation',\n",
        "    device=0, # 0 => GPU, -1 => CPU, auto => accelerate library\n",
        "    pipeline_kwargs={'max_new_tokens': 100}\n",
        ")"
      ],
      "metadata": {
        "id": "h0XYvbu_1UNM"
      },
      "execution_count": null,
      "outputs": []
    },
    {
      "cell_type": "code",
      "source": [
        "from langchain_core.prompts import PromptTemplate\n",
        "\n",
        "template = \"\"\"Question: {question}\n",
        "\n",
        "Answer: Let's think step by step.\"\"\"\n",
        "\n",
        "prompt = PromptTemplate.from_template(template)"
      ],
      "metadata": {
        "id": "G1ks3Mvn2j1g"
      },
      "execution_count": null,
      "outputs": []
    },
    {
      "cell_type": "code",
      "source": [
        "chain = prompt | gpu_llm"
      ],
      "metadata": {
        "id": "78gvWQ8X3Dne"
      },
      "execution_count": null,
      "outputs": []
    },
    {
      "cell_type": "code",
      "source": [
        "question = 'What is Machine Learning?'\n",
        "chain.invoke({'question': question})"
      ],
      "metadata": {
        "id": "CJToYf-M3Sf6"
      },
      "execution_count": null,
      "outputs": []
    }
  ],
  "metadata": {
    "colab": {
      "provenance": []
    },
    "kernelspec": {
      "display_name": "Python 3",
      "name": "python3"
    },
    "language_info": {
      "name": "python"
    }
  },
  "nbformat": 4,
  "nbformat_minor": 0
}