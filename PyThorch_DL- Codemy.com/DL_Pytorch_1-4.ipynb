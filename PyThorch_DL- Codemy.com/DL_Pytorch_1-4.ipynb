{
  "cells": [
    {
      "cell_type": "code",
      "execution_count": 1,
      "metadata": {
        "id": "F4ct8L7MiKIc"
      },
      "outputs": [
        {
          "name": "stderr",
          "output_type": "stream",
          "text": [
            "\n",
            "[notice] A new release of pip is available: 24.2 -> 25.0.1\n",
            "[notice] To update, run: python.exe -m pip install --upgrade pip\n"
          ]
        },
        {
          "name": "stdout",
          "output_type": "stream",
          "text": [
            "Requirement already satisfied: torch in c:\\users\\shahs_snohmej\\appdata\\local\\programs\\python\\python312\\lib\\site-packages (2.4.0)\n",
            "Requirement already satisfied: filelock in c:\\users\\shahs_snohmej\\appdata\\local\\programs\\python\\python312\\lib\\site-packages (from torch) (3.14.0)\n",
            "Requirement already satisfied: typing-extensions>=4.8.0 in c:\\users\\shahs_snohmej\\appdata\\local\\programs\\python\\python312\\lib\\site-packages (from torch) (4.12.2)\n",
            "Requirement already satisfied: sympy in c:\\users\\shahs_snohmej\\appdata\\local\\programs\\python\\python312\\lib\\site-packages (from torch) (1.13.1)\n",
            "Requirement already satisfied: networkx in c:\\users\\shahs_snohmej\\appdata\\local\\programs\\python\\python312\\lib\\site-packages (from torch) (3.3)\n",
            "Requirement already satisfied: jinja2 in c:\\users\\shahs_snohmej\\appdata\\local\\programs\\python\\python312\\lib\\site-packages (from torch) (3.1.4)\n",
            "Requirement already satisfied: fsspec in c:\\users\\shahs_snohmej\\appdata\\local\\programs\\python\\python312\\lib\\site-packages (from torch) (2024.6.1)\n",
            "Requirement already satisfied: setuptools in c:\\users\\shahs_snohmej\\appdata\\local\\programs\\python\\python312\\lib\\site-packages (from torch) (72.1.0)\n",
            "Requirement already satisfied: MarkupSafe>=2.0 in c:\\users\\shahs_snohmej\\appdata\\local\\programs\\python\\python312\\lib\\site-packages (from jinja2->torch) (2.1.5)\n",
            "Requirement already satisfied: mpmath<1.4,>=1.1.0 in c:\\users\\shahs_snohmej\\appdata\\local\\programs\\python\\python312\\lib\\site-packages (from sympy->torch) (1.3.0)\n",
            "Note: you may need to restart the kernel to use updated packages.\n"
          ]
        }
      ],
      "source": [
        "# Install the torch package\n",
        "%pip install torch\n",
        "\n",
        "import torch\n",
        "import numpy as np"
      ]
    },
    {
      "cell_type": "code",
      "execution_count": 2,
      "metadata": {
        "colab": {
          "base_uri": "https://localhost:8080/"
        },
        "collapsed": true,
        "id": "mBVZs58zj1RX",
        "outputId": "ef481774-7890-4b9b-c0d7-b3120b63bc71"
      },
      "outputs": [
        {
          "name": "stdout",
          "output_type": "stream",
          "text": [
            "Package                      Version\n",
            "---------------------------- -----------\n",
            "absl-py                      2.1.0\n",
            "accelerate                   0.34.0\n",
            "aiohappyeyeballs             2.3.4\n",
            "aiohttp                      3.10.0\n",
            "aiohttp-cors                 0.7.0\n",
            "aiosignal                    1.3.1\n",
            "altair                       5.3.0\n",
            "annotated-types              0.7.0\n",
            "anyio                        4.4.0\n",
            "asttokens                    2.4.1\n",
            "astunparse                   1.6.3\n",
            "attrs                        23.2.0\n",
            "azure-core                   1.30.2\n",
            "azure-storage-blob           12.22.0\n",
            "backoff                      2.2.1\n",
            "beautifulsoup4               4.12.3\n",
            "bitsandbytes                 0.43.3\n",
            "blinker                      1.8.2\n",
            "cachetools                   5.4.0\n",
            "caer                         2.0.8\n",
            "certifi                      2024.7.4\n",
            "cffi                         1.17.0\n",
            "chardet                      5.2.0\n",
            "charset-normalizer           3.3.2\n",
            "click                        8.1.7\n",
            "cloudpickle                  3.0.0\n",
            "colorama                     0.4.6\n",
            "colorful                     0.5.6\n",
            "comm                         0.2.2\n",
            "contourpy                    1.2.1\n",
            "cryptography                 43.0.0\n",
            "cycler                       0.12.1\n",
            "dataclasses-json             0.6.7\n",
            "datasets                     3.2.0\n",
            "debugpy                      1.8.2\n",
            "decorator                    5.1.1\n",
            "deepdiff                     8.0.1\n",
            "dill                         0.3.8\n",
            "distlib                      0.3.8\n",
            "distro                       1.9.0\n",
            "dm-tree                      0.1.8\n",
            "emoji                        2.12.1\n",
            "et-xmlfile                   1.1.0\n",
            "executing                    2.0.1\n",
            "faiss-cpu                    1.8.0.post1\n",
            "Farama-Notifications         0.0.4\n",
            "fastapi                      0.112.0\n",
            "filelock                     3.14.0\n",
            "filetype                     1.2.0\n",
            "flatbuffers                  24.3.25\n",
            "fonttools                    4.53.1\n",
            "frozenlist                   1.4.1\n",
            "fsspec                       2024.6.1\n",
            "gast                         0.6.0\n",
            "gitdb                        4.0.11\n",
            "GitPython                    3.1.43\n",
            "google-ai-generativelanguage 0.6.6\n",
            "google-api-core              2.19.1\n",
            "google-api-python-client     2.139.0\n",
            "google-auth                  2.32.0\n",
            "google-auth-httplib2         0.2.0\n",
            "google-generativeai          0.7.2\n",
            "google-pasta                 0.2.0\n",
            "googleapis-common-protos     1.63.2\n",
            "greenlet                     3.0.3\n",
            "groq                         0.11.0\n",
            "grpcio                       1.65.2\n",
            "grpcio-status                1.62.2\n",
            "gymnasium                    0.28.1\n",
            "h11                          0.14.0\n",
            "h5py                         3.12.1\n",
            "httpcore                     1.0.5\n",
            "httplib2                     0.22.0\n",
            "httptools                    0.6.1\n",
            "httpx                        0.27.0\n",
            "huggingface-hub              0.24.5\n",
            "idna                         3.7\n",
            "imageio                      2.35.0\n",
            "InstructorEmbedding          1.0.1\n",
            "ipykernel                    6.29.5\n",
            "ipython                      8.26.0\n",
            "isodate                      0.6.1\n",
            "jax-jumpy                    1.0.0\n",
            "jedi                         0.19.1\n",
            "Jinja2                       3.1.4\n",
            "joblib                       1.4.2\n",
            "jsonlines                    4.0.0\n",
            "jsonpatch                    1.33\n",
            "jsonpath-python              1.0.6\n",
            "jsonpointer                  3.0.0\n",
            "jsonschema                   4.23.0\n",
            "jsonschema-specifications    2023.12.1\n",
            "jupyter_client               8.6.2\n",
            "jupyter_core                 5.7.2\n",
            "keras                        3.5.0\n",
            "kiwisolver                   1.4.5\n",
            "lamini                       3.0.5\n",
            "lamini-configuration         0.8.3\n",
            "langchain                    0.2.11\n",
            "langchain-community          0.2.10\n",
            "langchain-core               0.2.40\n",
            "langchain-groq               0.2.0\n",
            "langchain-huggingface        0.0.3\n",
            "langchain-openai             0.1.20\n",
            "langchain-text-splitters     0.2.2\n",
            "langdetect                   1.0.9\n",
            "langserve                    0.2.2\n",
            "langsmith                    0.1.120\n",
            "lazy_loader                  0.4\n",
            "libclang                     18.1.1\n",
            "lxml                         5.3.0\n",
            "lz4                          4.3.3\n",
            "Markdown                     3.7\n",
            "markdown-it-py               3.0.0\n",
            "MarkupSafe                   2.1.5\n",
            "marshmallow                  3.21.3\n",
            "matplotlib                   3.9.2\n",
            "matplotlib-inline            0.1.7\n",
            "mdurl                        0.1.2\n",
            "ml-dtypes                    0.4.1\n",
            "mpmath                       1.3.0\n",
            "msgpack                      1.0.8\n",
            "multidict                    6.0.5\n",
            "multiprocess                 0.70.16\n",
            "mypy                         1.13.0\n",
            "mypy-extensions              1.0.0\n",
            "namex                        0.0.8\n",
            "nest-asyncio                 1.6.0\n",
            "networkx                     3.3\n",
            "nltk                         3.8.1\n",
            "numpy                        1.26.4\n",
            "olefile                      0.47\n",
            "openai                       1.37.1\n",
            "opencensus                   0.11.4\n",
            "opencensus-context           0.1.3\n",
            "opencv-contrib-python        4.10.0.84\n",
            "openpyxl                     3.1.5\n",
            "opt_einsum                   3.4.0\n",
            "optree                       0.12.1\n",
            "orderly-set                  5.2.2\n",
            "orjson                       3.10.6\n",
            "outcome                      1.3.0.post0\n",
            "packaging                    24.1\n",
            "pandas                       2.2.2\n",
            "parso                        0.8.4\n",
            "pillow                       10.4.0\n",
            "pip                          24.2\n",
            "platformdirs                 4.2.2\n",
            "prometheus_client            0.20.0\n",
            "prompt_toolkit               3.0.47\n",
            "proto-plus                   1.24.0\n",
            "protobuf                     4.25.4\n",
            "psutil                       6.0.0\n",
            "pure-eval                    0.2.2\n",
            "py-spy                       0.3.14\n",
            "pyarrow                      17.0.0\n",
            "pyasn1                       0.6.0\n",
            "pyasn1_modules               0.4.0\n",
            "pycparser                    2.22\n",
            "pydantic                     2.8.2\n",
            "pydantic_core                2.20.1\n",
            "pydeck                       0.9.1\n",
            "Pygments                     2.18.0\n",
            "pyparsing                    3.1.2\n",
            "pypdf                        5.0.0\n",
            "PyPDF2                       3.0.1\n",
            "pyproject-toml               0.0.10\n",
            "PySocks                      1.7.1\n",
            "python-dateutil              2.9.0.post0\n",
            "python-docx                  1.1.2\n",
            "python-dotenv                1.0.1\n",
            "python-iso639                2024.4.27\n",
            "python-magic                 0.4.27\n",
            "python-oxmsg                 0.0.1\n",
            "pytz                         2024.1\n",
            "pywin32                      306\n",
            "PyYAML                       6.0.1\n",
            "pyzmq                        26.0.3\n",
            "rapidfuzz                    3.9.7\n",
            "ray                          2.34.0\n",
            "referencing                  0.35.1\n",
            "regex                        2024.7.24\n",
            "requests                     2.32.3\n",
            "requests-toolbelt            1.0.0\n",
            "rich                         13.7.1\n",
            "rpds-py                      0.19.1\n",
            "rsa                          4.9\n",
            "safetensors                  0.4.3\n",
            "scikit-image                 0.24.0\n",
            "scikit-learn                 1.5.1\n",
            "scipy                        1.14.0\n",
            "seaborn                      0.13.2\n",
            "selenium                     4.26.1\n",
            "sentence-transformers        3.0.1\n",
            "sentencepiece                0.2.0\n",
            "setuptools                   72.1.0\n",
            "shellingham                  1.5.4\n",
            "six                          1.16.0\n",
            "smart-open                   7.0.4\n",
            "smmap                        5.0.1\n",
            "sniffio                      1.3.1\n",
            "sortedcontainers             2.4.0\n",
            "soupsieve                    2.6\n",
            "SQLAlchemy                   2.0.31\n",
            "sse-starlette                2.1.3\n",
            "stack-data                   0.6.3\n",
            "starlette                    0.37.2\n",
            "streamlit                    1.37.0\n",
            "sympy                        1.13.1\n",
            "tabulate                     0.9.0\n",
            "tenacity                     8.5.0\n",
            "tensorboard                  2.18.0\n",
            "tensorboard-data-server      0.7.2\n",
            "tensorboardX                 2.6.2.2\n",
            "tensorflow                   2.18.0\n",
            "tensorflow_intel             2.18.0\n",
            "termcolor                    2.4.0\n",
            "tf_keras                     2.18.0\n",
            "threadpoolctl                3.5.0\n",
            "tifffile                     2024.8.10\n",
            "tiktoken                     0.7.0\n",
            "tokenizers                   0.19.1\n",
            "toml                         0.10.2\n",
            "toolz                        0.12.1\n",
            "torch                        2.4.0\n",
            "torchaudio                   2.4.0\n",
            "torchvision                  0.19.0\n",
            "tornado                      6.4.1\n",
            "tqdm                         4.66.4\n",
            "traitlets                    5.14.3\n",
            "transformers                 4.43.3\n",
            "trio                         0.27.0\n",
            "trio-websocket               0.11.1\n",
            "typer                        0.12.3\n",
            "typing_extensions            4.12.2\n",
            "typing-inspect               0.9.0\n",
            "tzdata                       2024.1\n",
            "unstructured                 0.15.12\n",
            "unstructured-client          0.25.9\n",
            "uritemplate                  4.1.1\n",
            "urllib3                      2.2.2\n",
            "utils                        1.0.2\n",
            "uvicorn                      0.30.6\n",
            "virtualenv                   20.26.2\n",
            "virtualenvwrapper-win        1.2.7\n",
            "watchdog                     4.0.1\n",
            "watchfiles                   0.23.0\n",
            "wcwidth                      0.2.13\n",
            "websocket-client             1.8.0\n",
            "websockets                   12.0\n",
            "Werkzeug                     3.0.4\n",
            "wheel                        0.44.0\n",
            "wikipedia                    1.4.0\n",
            "wrapt                        1.16.0\n",
            "wsproto                      1.2.0\n",
            "xgboost                      2.1.4\n",
            "xxhash                       3.5.0\n",
            "yarl                         1.9.4\n"
          ]
        }
      ],
      "source": [
        "!pip list"
      ]
    },
    {
      "cell_type": "markdown",
      "metadata": {
        "id": "_gj2vVMlnUCn"
      },
      "source": [
        "# **TENSORS**\n",
        "\n",
        "*   A torch.Tensor is a multi-dimensional matrix containing elements of a single data type.\n",
        "\n",
        "*   Similar To Numpy Arrays, but full of fun things that make them work better on GPU's (vs regular CPU's).\n",
        "\n",
        "*  default data type of float32.\n",
        "\n",
        "* More suitable for deep learning than a numpy array.\n"
      ]
    },
    {
      "cell_type": "markdown",
      "metadata": {
        "id": "el_foGUlnv8j"
      },
      "source": [
        "#List"
      ]
    },
    {
      "cell_type": "code",
      "execution_count": 3,
      "metadata": {
        "colab": {
          "base_uri": "https://localhost:8080/"
        },
        "id": "mVhsvFwJj1Nz",
        "outputId": "7a35a60c-9a67-43c2-b85a-9a535e892ed1"
      },
      "outputs": [
        {
          "data": {
            "text/plain": [
              "[1, 2, 3, 4, 5]"
            ]
          },
          "execution_count": 3,
          "metadata": {},
          "output_type": "execute_result"
        }
      ],
      "source": [
        "nums = [1, 2 , 3, 4, 5]\n",
        "nums"
      ]
    },
    {
      "cell_type": "code",
      "execution_count": 4,
      "metadata": {
        "colab": {
          "base_uri": "https://localhost:8080/"
        },
        "id": "npD0hA7Rj0_p",
        "outputId": "383b5a27-94a9-4ecb-f962-f2a9d9fe45f6"
      },
      "outputs": [
        {
          "data": {
            "text/plain": [
              "[[1, 2, 3], [4, 5, 6]]"
            ]
          },
          "execution_count": 4,
          "metadata": {},
          "output_type": "execute_result"
        }
      ],
      "source": [
        "nums_2d = [[1, 2 , 3], [4, 5, 6]]\n",
        "nums_2d"
      ]
    },
    {
      "cell_type": "markdown",
      "metadata": {
        "id": "ABYxe1PwocxW"
      },
      "source": [
        "#Numpy Array"
      ]
    },
    {
      "cell_type": "code",
      "execution_count": 5,
      "metadata": {
        "colab": {
          "base_uri": "https://localhost:8080/"
        },
        "id": "xk9bawYApA8C",
        "outputId": "1b579f30-7d62-40f9-91c0-c651d22e8deb"
      },
      "outputs": [
        {
          "data": {
            "text/plain": [
              "array([0.93111767, 0.10888026, 0.78546195])"
            ]
          },
          "execution_count": 5,
          "metadata": {},
          "output_type": "execute_result"
        }
      ],
      "source": [
        "np0 = np.random.rand(3)\n",
        "np0"
      ]
    },
    {
      "cell_type": "code",
      "execution_count": 6,
      "metadata": {
        "colab": {
          "base_uri": "https://localhost:8080/"
        },
        "id": "73QHEm30ob1X",
        "outputId": "78bf3295-6e18-48d7-8f34-95b0bee06b11"
      },
      "outputs": [
        {
          "data": {
            "text/plain": [
              "array([[0.09955311, 0.36951752, 0.24933583, 0.57818255],\n",
              "       [0.63005465, 0.80282362, 0.27768128, 0.9136305 ],\n",
              "       [0.14172271, 0.14002918, 0.96036953, 0.02217018]])"
            ]
          },
          "execution_count": 6,
          "metadata": {},
          "output_type": "execute_result"
        }
      ],
      "source": [
        "np1 = np.random.rand(3, 4)\n",
        "np1"
      ]
    },
    {
      "cell_type": "code",
      "execution_count": 9,
      "metadata": {
        "colab": {
          "base_uri": "https://localhost:8080/"
        },
        "id": "jpO4QXl7tjxC",
        "outputId": "1619b720-3b70-4978-a414-d7575ae952f3"
      },
      "outputs": [
        {
          "data": {
            "text/plain": [
              "dtype('float64')"
            ]
          },
          "execution_count": 9,
          "metadata": {},
          "output_type": "execute_result"
        }
      ],
      "source": [
        "np1.dtype"
      ]
    },
    {
      "cell_type": "markdown",
      "metadata": {
        "id": "d1JD0RYLpJLi"
      },
      "source": [
        "#Tensor"
      ]
    },
    {
      "cell_type": "code",
      "execution_count": 10,
      "metadata": {
        "colab": {
          "base_uri": "https://localhost:8080/"
        },
        "id": "tj6Nc-tcpFbt",
        "outputId": "07d45423-8756-44e5-9327-bca249f6a64e"
      },
      "outputs": [
        {
          "data": {
            "text/plain": [
              "tensor([[ 0.1304,  0.6063, -2.0262, -2.1819],\n",
              "        [ 0.1962, -0.7091, -0.5967,  0.4604],\n",
              "        [ 0.6127, -1.6058,  1.5230, -0.2383]])"
            ]
          },
          "execution_count": 10,
          "metadata": {},
          "output_type": "execute_result"
        }
      ],
      "source": [
        "tensor_2d = torch.randn(3, 4)\n",
        "tensor_2d"
      ]
    },
    {
      "cell_type": "code",
      "execution_count": 11,
      "metadata": {
        "colab": {
          "base_uri": "https://localhost:8080/"
        },
        "id": "C9lzLxDxydDh",
        "outputId": "f520c850-1dc0-434c-9472-222cf9828386"
      },
      "outputs": [
        {
          "data": {
            "text/plain": [
              "torch.float32"
            ]
          },
          "execution_count": 11,
          "metadata": {},
          "output_type": "execute_result"
        }
      ],
      "source": [
        "tensor_2d.dtype"
      ]
    },
    {
      "cell_type": "code",
      "execution_count": 13,
      "metadata": {
        "colab": {
          "base_uri": "https://localhost:8080/"
        },
        "id": "mjGk0dxtwIKK",
        "outputId": "d7eb6d12-eb9c-41ed-fa32-10ce3267c710"
      },
      "outputs": [
        {
          "data": {
            "text/plain": [
              "tensor([[[0., 0., 0., 0.],\n",
              "         [0., 0., 0., 0.],\n",
              "         [0., 0., 0., 0.]],\n",
              "\n",
              "        [[0., 0., 0., 0.],\n",
              "         [0., 0., 0., 0.],\n",
              "         [0., 0., 0., 0.]]])"
            ]
          },
          "execution_count": 13,
          "metadata": {},
          "output_type": "execute_result"
        }
      ],
      "source": [
        "tensor_3d = torch.zeros(2, 3, 4)\n",
        "tensor_3d"
      ]
    },
    {
      "cell_type": "code",
      "execution_count": 14,
      "metadata": {
        "colab": {
          "base_uri": "https://localhost:8080/"
        },
        "id": "sWuVj0tfwX4J",
        "outputId": "e7f71673-b401-42e2-f8e1-dd84a8a5fcfc"
      },
      "outputs": [
        {
          "data": {
            "text/plain": [
              "tensor([[0.0996, 0.3695, 0.2493, 0.5782],\n",
              "        [0.6301, 0.8028, 0.2777, 0.9136],\n",
              "        [0.1417, 0.1400, 0.9604, 0.0222]], dtype=torch.float64)"
            ]
          },
          "execution_count": 14,
          "metadata": {},
          "output_type": "execute_result"
        }
      ],
      "source": [
        "#create tensor out of numpy array\n",
        "my_tensor = torch.tensor(np1)\n",
        "my_tensor"
      ]
    },
    {
      "cell_type": "code",
      "execution_count": 15,
      "metadata": {
        "colab": {
          "base_uri": "https://localhost:8080/"
        },
        "id": "aR2qU4of2w5a",
        "outputId": "a575c657-e9bc-4a1e-986e-b8a5beac6ec5"
      },
      "outputs": [
        {
          "data": {
            "text/plain": [
              "tensor([0, 1, 2, 3, 4, 5, 6, 7, 8, 9])"
            ]
          },
          "execution_count": 15,
          "metadata": {},
          "output_type": "execute_result"
        }
      ],
      "source": [
        "my_tensor2 = torch.arange(10)\n",
        "my_tensor2"
      ]
    },
    {
      "cell_type": "code",
      "execution_count": 16,
      "metadata": {
        "colab": {
          "base_uri": "https://localhost:8080/"
        },
        "id": "rsR4zleu3jwT",
        "outputId": "9fbe8085-1d4e-4632-ef3a-32134c1ace85"
      },
      "outputs": [
        {
          "data": {
            "text/plain": [
              "tensor([[0, 1, 2, 3, 4],\n",
              "        [5, 6, 7, 8, 9]])"
            ]
          },
          "execution_count": 16,
          "metadata": {},
          "output_type": "execute_result"
        }
      ],
      "source": [
        "# Reshape and View\n",
        "my_tensor3 = my_tensor2.reshape(2, 5) #(2, 6) not valid as 2*6 = 12 > 10\n",
        "my_tensor3"
      ]
    },
    {
      "cell_type": "code",
      "execution_count": 17,
      "metadata": {
        "colab": {
          "base_uri": "https://localhost:8080/"
        },
        "id": "L5wRZ1EL3mlf",
        "outputId": "ed33dc03-306d-4598-84de-0977cc1dbfc2"
      },
      "outputs": [
        {
          "data": {
            "text/plain": [
              "tensor([ 0,  1,  2,  3,  4,  5,  6,  7,  8,  9, 10, 11, 12, 13, 14])"
            ]
          },
          "execution_count": 17,
          "metadata": {},
          "output_type": "execute_result"
        }
      ],
      "source": [
        "my_tensor4 = torch.arange(15)\n",
        "my_tensor4"
      ]
    },
    {
      "cell_type": "code",
      "execution_count": 18,
      "metadata": {
        "colab": {
          "base_uri": "https://localhost:8080/"
        },
        "id": "4zHADiEs4joN",
        "outputId": "7507b7dc-8a10-43ff-da94-687d8a9f2a9e"
      },
      "outputs": [
        {
          "data": {
            "text/plain": [
              "tensor([[ 0,  1,  2,  3,  4],\n",
              "        [ 5,  6,  7,  8,  9],\n",
              "        [10, 11, 12, 13, 14]])"
            ]
          },
          "execution_count": 18,
          "metadata": {},
          "output_type": "execute_result"
        }
      ],
      "source": [
        "#-1 for auto correct dimention: here (2, -1) is not valid\n",
        "my_tensor4 = my_tensor4.reshape(3, -1)\n",
        "my_tensor4"
      ]
    },
    {
      "cell_type": "code",
      "execution_count": 19,
      "metadata": {
        "colab": {
          "base_uri": "https://localhost:8080/"
        },
        "id": "UAhNDajZgiCH",
        "outputId": "dce16345-e159-4293-b872-d6a2a01b2ec0"
      },
      "outputs": [
        {
          "data": {
            "text/plain": [
              "tensor([[ 0,  1,  2],\n",
              "        [ 3,  4,  5],\n",
              "        [ 6,  7,  8],\n",
              "        [ 9, 10, 11],\n",
              "        [12, 13, 14]])"
            ]
          },
          "execution_count": 19,
          "metadata": {},
          "output_type": "execute_result"
        }
      ],
      "source": [
        "my_tensor4 = my_tensor4.reshape(-1, 3)\n",
        "my_tensor4"
      ]
    },
    {
      "cell_type": "code",
      "execution_count": 20,
      "metadata": {
        "colab": {
          "base_uri": "https://localhost:8080/"
        },
        "id": "YXNnAWBci_bB",
        "outputId": "21cd03be-c367-437b-ee9e-f18e4cfb87db"
      },
      "outputs": [
        {
          "data": {
            "text/plain": [
              "tensor([0, 1, 2, 3, 4, 5, 6, 7, 8, 9])"
            ]
          },
          "execution_count": 20,
          "metadata": {},
          "output_type": "execute_result"
        }
      ],
      "source": [
        "# view do the same thing\n",
        "my_tensor_a = torch.arange(10)\n",
        "my_tensor_a"
      ]
    },
    {
      "cell_type": "code",
      "execution_count": 21,
      "metadata": {
        "colab": {
          "base_uri": "https://localhost:8080/"
        },
        "id": "HktVX6Plp5cv",
        "outputId": "c496f4f2-830f-4230-c413-03f2dd69b70e"
      },
      "outputs": [
        {
          "data": {
            "text/plain": [
              "tensor([[0, 1, 2, 3, 4],\n",
              "        [5, 6, 7, 8, 9]])"
            ]
          },
          "execution_count": 21,
          "metadata": {},
          "output_type": "execute_result"
        }
      ],
      "source": [
        "my_tensor_b = my_tensor_a.view(2, 5)\n",
        "my_tensor_b"
      ]
    },
    {
      "cell_type": "code",
      "execution_count": 22,
      "metadata": {
        "colab": {
          "base_uri": "https://localhost:8080/"
        },
        "id": "Dfw8MuNhqOrv",
        "outputId": "1863fa8d-5176-4909-9632-704367197374"
      },
      "outputs": [
        {
          "data": {
            "text/plain": [
              "tensor([  0, 444,   2,   3,   4,   5,   6,   7,   8,   9])"
            ]
          },
          "execution_count": 22,
          "metadata": {},
          "output_type": "execute_result"
        }
      ],
      "source": [
        "my_tensor_a[1] = 444\n",
        "my_tensor_a"
      ]
    },
    {
      "cell_type": "code",
      "execution_count": 23,
      "metadata": {
        "colab": {
          "base_uri": "https://localhost:8080/"
        },
        "id": "eRsA1bjNrRcF",
        "outputId": "8df0d62d-e4c9-4da8-94af-e486cb8f1422"
      },
      "outputs": [
        {
          "data": {
            "text/plain": [
              "tensor([[  0, 444,   2,   3,   4],\n",
              "        [  5,   6,   7,   8,   9]])"
            ]
          },
          "execution_count": 23,
          "metadata": {},
          "output_type": "execute_result"
        }
      ],
      "source": [
        "#change update automatically\n",
        "my_tensor_b"
      ]
    },
    {
      "cell_type": "code",
      "execution_count": 24,
      "metadata": {
        "colab": {
          "base_uri": "https://localhost:8080/"
        },
        "id": "FsJrIHH_rdmf",
        "outputId": "a5dd7659-5f4f-4619-db5d-c8b4e256e827"
      },
      "outputs": [
        {
          "data": {
            "text/plain": [
              "tensor([0, 1, 2, 3, 4, 5, 6, 7, 8, 9])"
            ]
          },
          "execution_count": 24,
          "metadata": {},
          "output_type": "execute_result"
        }
      ],
      "source": [
        "# Slice\n",
        "my_tensor_c = torch.arange(10)\n",
        "my_tensor_c"
      ]
    },
    {
      "cell_type": "code",
      "execution_count": 25,
      "metadata": {
        "colab": {
          "base_uri": "https://localhost:8080/"
        },
        "id": "2wY4YXwortVx",
        "outputId": "d88492bd-175e-426e-ef94-e3555c41f4eb"
      },
      "outputs": [
        {
          "data": {
            "text/plain": [
              "tensor(7)"
            ]
          },
          "execution_count": 25,
          "metadata": {},
          "output_type": "execute_result"
        }
      ],
      "source": [
        "my_tensor_c[7]"
      ]
    },
    {
      "cell_type": "code",
      "execution_count": 26,
      "metadata": {
        "colab": {
          "base_uri": "https://localhost:8080/"
        },
        "id": "Sgvih7X6sADu",
        "outputId": "06c83e81-0e2b-47d4-f55b-c2ee1751caa9"
      },
      "outputs": [
        {
          "data": {
            "text/plain": [
              "tensor([[0, 1],\n",
              "        [2, 3],\n",
              "        [4, 5],\n",
              "        [6, 7],\n",
              "        [8, 9]])"
            ]
          },
          "execution_count": 26,
          "metadata": {},
          "output_type": "execute_result"
        }
      ],
      "source": [
        "my_tensor_d = my_tensor_c.reshape(5, 2)\n",
        "my_tensor_d"
      ]
    },
    {
      "cell_type": "code",
      "execution_count": 27,
      "metadata": {
        "colab": {
          "base_uri": "https://localhost:8080/"
        },
        "id": "3AY7nOwNs5GP",
        "outputId": "75861d28-8fea-4bc4-9347-73c119ee6b33"
      },
      "outputs": [
        {
          "data": {
            "text/plain": [
              "tensor([1, 3, 5, 7, 9])"
            ]
          },
          "execution_count": 27,
          "metadata": {},
          "output_type": "execute_result"
        }
      ],
      "source": [
        "my_tensor_d[:, 1]"
      ]
    },
    {
      "cell_type": "code",
      "execution_count": 28,
      "metadata": {
        "colab": {
          "base_uri": "https://localhost:8080/"
        },
        "id": "lE777_Wn20eS",
        "outputId": "a0214e74-79c0-44e0-f79b-ec5d7606aa23"
      },
      "outputs": [
        {
          "data": {
            "text/plain": [
              "tensor([[1],\n",
              "        [3],\n",
              "        [5],\n",
              "        [7],\n",
              "        [9]])"
            ]
          },
          "execution_count": 28,
          "metadata": {},
          "output_type": "execute_result"
        }
      ],
      "source": [
        "my_tensor_d[:, 1:]"
      ]
    },
    {
      "cell_type": "markdown",
      "metadata": {
        "id": "mY0CWPrI3OQj"
      },
      "source": [
        "##L-4: Math"
      ]
    },
    {
      "cell_type": "code",
      "execution_count": 29,
      "metadata": {
        "id": "ILhO-bEC3U-c"
      },
      "outputs": [],
      "source": [
        "tensor_x = torch.tensor([1, 2, 3, 4])\n",
        "tensor_y = torch.tensor([5, 6, 7, 8])"
      ]
    },
    {
      "cell_type": "code",
      "execution_count": 31,
      "metadata": {},
      "outputs": [
        {
          "data": {
            "text/plain": [
              "tensor([ 6,  8, 10, 12])"
            ]
          },
          "execution_count": 31,
          "metadata": {},
          "output_type": "execute_result"
        }
      ],
      "source": [
        "#Addition\n",
        "tensor_x + tensor_y"
      ]
    },
    {
      "cell_type": "code",
      "execution_count": 32,
      "metadata": {},
      "outputs": [
        {
          "data": {
            "text/plain": [
              "tensor([ 6,  8, 10, 12])"
            ]
          },
          "execution_count": 32,
          "metadata": {},
          "output_type": "execute_result"
        }
      ],
      "source": [
        "#Addition Longhand\n",
        "torch.add(tensor_x, tensor_y)"
      ]
    },
    {
      "cell_type": "code",
      "execution_count": 34,
      "metadata": {},
      "outputs": [
        {
          "data": {
            "text/plain": [
              "tensor([-4, -4, -4, -4])"
            ]
          },
          "execution_count": 34,
          "metadata": {},
          "output_type": "execute_result"
        }
      ],
      "source": [
        "#Subtraction\n",
        "tensor_x - tensor_y"
      ]
    },
    {
      "cell_type": "code",
      "execution_count": 36,
      "metadata": {},
      "outputs": [
        {
          "data": {
            "text/plain": [
              "tensor([-4, -4, -4, -4])"
            ]
          },
          "execution_count": 36,
          "metadata": {},
          "output_type": "execute_result"
        }
      ],
      "source": [
        "#Subtraction Longhand\n",
        "torch.sub(tensor_x, tensor_y)"
      ]
    },
    {
      "cell_type": "code",
      "execution_count": 37,
      "metadata": {},
      "outputs": [
        {
          "data": {
            "text/plain": [
              "tensor([ 5, 12, 21, 32])"
            ]
          },
          "execution_count": 37,
          "metadata": {},
          "output_type": "execute_result"
        }
      ],
      "source": [
        "#Multiplication\n",
        "tensor_x * tensor_y"
      ]
    },
    {
      "cell_type": "code",
      "execution_count": 38,
      "metadata": {},
      "outputs": [
        {
          "data": {
            "text/plain": [
              "tensor([ 5, 12, 21, 32])"
            ]
          },
          "execution_count": 38,
          "metadata": {},
          "output_type": "execute_result"
        }
      ],
      "source": [
        "#Multiplication Longhand\n",
        "torch.mul(tensor_x, tensor_y)"
      ]
    },
    {
      "cell_type": "code",
      "execution_count": 39,
      "metadata": {},
      "outputs": [
        {
          "data": {
            "text/plain": [
              "tensor([5.0000, 3.0000, 2.3333, 2.0000])"
            ]
          },
          "execution_count": 39,
          "metadata": {},
          "output_type": "execute_result"
        }
      ],
      "source": [
        "#Division\n",
        "tensor_y / tensor_x"
      ]
    },
    {
      "cell_type": "code",
      "execution_count": 40,
      "metadata": {},
      "outputs": [
        {
          "data": {
            "text/plain": [
              "tensor([5.0000, 3.0000, 2.3333, 2.0000])"
            ]
          },
          "execution_count": 40,
          "metadata": {},
          "output_type": "execute_result"
        }
      ],
      "source": [
        "#Multiplication Longhand\n",
        "torch.div(tensor_y, tensor_x)"
      ]
    },
    {
      "cell_type": "code",
      "execution_count": 42,
      "metadata": {},
      "outputs": [
        {
          "data": {
            "text/plain": [
              "tensor([0, 0, 1, 0])"
            ]
          },
          "execution_count": 42,
          "metadata": {},
          "output_type": "execute_result"
        }
      ],
      "source": [
        "#Remainder\n",
        "tensor_y % tensor_x"
      ]
    },
    {
      "cell_type": "code",
      "execution_count": 43,
      "metadata": {},
      "outputs": [
        {
          "data": {
            "text/plain": [
              "tensor([0, 0, 1, 0])"
            ]
          },
          "execution_count": 43,
          "metadata": {},
          "output_type": "execute_result"
        }
      ],
      "source": [
        "#Remainder Longhand\n",
        "torch.remainder(tensor_y, tensor_x)"
      ]
    },
    {
      "cell_type": "code",
      "execution_count": 45,
      "metadata": {},
      "outputs": [
        {
          "data": {
            "text/plain": [
              "tensor([   5,   36,  343, 4096])"
            ]
          },
          "execution_count": 45,
          "metadata": {},
          "output_type": "execute_result"
        }
      ],
      "source": [
        "# Exponents / Power\n",
        "tensor_y ** tensor_x"
      ]
    },
    {
      "cell_type": "code",
      "execution_count": 46,
      "metadata": {},
      "outputs": [
        {
          "data": {
            "text/plain": [
              "tensor([   5,   36,  343, 4096])"
            ]
          },
          "execution_count": 46,
          "metadata": {},
          "output_type": "execute_result"
        }
      ],
      "source": [
        "# Exponents / Power Longhand\n",
        "torch.pow(tensor_y, tensor_x)"
      ]
    },
    {
      "cell_type": "code",
      "execution_count": 48,
      "metadata": {},
      "outputs": [
        {
          "data": {
            "text/plain": [
              "tensor([ 6,  8, 10, 12])"
            ]
          },
          "execution_count": 48,
          "metadata": {},
          "output_type": "execute_result"
        }
      ],
      "source": [
        "# Another way to write longhand\n",
        "tensor_x.add(tensor_y)\n",
        "\n",
        "# same works for sub, mul, div, remainder, pow"
      ]
    },
    {
      "cell_type": "code",
      "execution_count": 49,
      "metadata": {},
      "outputs": [
        {
          "data": {
            "text/plain": [
              "tensor([ 6,  8, 10, 12])"
            ]
          },
          "execution_count": 49,
          "metadata": {},
          "output_type": "execute_result"
        }
      ],
      "source": [
        "tensor_x += tensor_y\n",
        "tensor_x"
      ]
    },
    {
      "cell_type": "code",
      "execution_count": 61,
      "metadata": {},
      "outputs": [],
      "source": [
        "tensor_x = torch.tensor([1, 2, 3, 4])"
      ]
    },
    {
      "cell_type": "code",
      "execution_count": 62,
      "metadata": {},
      "outputs": [
        {
          "data": {
            "text/plain": [
              "tensor([ 6,  8, 10, 12])"
            ]
          },
          "execution_count": 62,
          "metadata": {},
          "output_type": "execute_result"
        }
      ],
      "source": [
        "tensor_x.add_(tensor_y)\n",
        "tensor_x"
      ]
    },
    {
      "cell_type": "code",
      "execution_count": null,
      "metadata": {},
      "outputs": [],
      "source": []
    }
  ],
  "metadata": {
    "accelerator": "GPU",
    "colab": {
      "gpuType": "T4",
      "provenance": []
    },
    "kernelspec": {
      "display_name": "Python 3",
      "name": "python3"
    },
    "language_info": {
      "codemirror_mode": {
        "name": "ipython",
        "version": 3
      },
      "file_extension": ".py",
      "mimetype": "text/x-python",
      "name": "python",
      "nbconvert_exporter": "python",
      "pygments_lexer": "ipython3",
      "version": "3.12.1"
    }
  },
  "nbformat": 4,
  "nbformat_minor": 0
}
