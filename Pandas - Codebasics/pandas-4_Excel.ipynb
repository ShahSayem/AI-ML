{
 "cells": [
  {
   "cell_type": "code",
   "execution_count": 7,
   "id": "33d46812",
   "metadata": {},
   "outputs": [
    {
     "data": {
      "text/html": [
       "<div>\n",
       "<style scoped>\n",
       "    .dataframe tbody tr th:only-of-type {\n",
       "        vertical-align: middle;\n",
       "    }\n",
       "\n",
       "    .dataframe tbody tr th {\n",
       "        vertical-align: top;\n",
       "    }\n",
       "\n",
       "    .dataframe thead th {\n",
       "        text-align: right;\n",
       "    }\n",
       "</style>\n",
       "<table border=\"1\" class=\"dataframe\">\n",
       "  <thead>\n",
       "    <tr style=\"text-align: right;\">\n",
       "      <th></th>\n",
       "      <th>Tickers</th>\n",
       "      <th>eps</th>\n",
       "      <th>revenue</th>\n",
       "      <th>price</th>\n",
       "      <th>people</th>\n",
       "    </tr>\n",
       "  </thead>\n",
       "  <tbody>\n",
       "    <tr>\n",
       "      <th>0</th>\n",
       "      <td>Google</td>\n",
       "      <td>27.82</td>\n",
       "      <td>87</td>\n",
       "      <td>845.0</td>\n",
       "      <td>larray page</td>\n",
       "    </tr>\n",
       "    <tr>\n",
       "      <th>1</th>\n",
       "      <td>WMT</td>\n",
       "      <td>-1.00</td>\n",
       "      <td>484</td>\n",
       "      <td>65.0</td>\n",
       "      <td>sam walton</td>\n",
       "    </tr>\n",
       "    <tr>\n",
       "      <th>2</th>\n",
       "      <td>TATA</td>\n",
       "      <td>5.60</td>\n",
       "      <td>-1</td>\n",
       "      <td>NaN</td>\n",
       "      <td>ratan tata</td>\n",
       "    </tr>\n",
       "  </tbody>\n",
       "</table>\n",
       "</div>"
      ],
      "text/plain": [
       "  Tickers    eps  revenue  price       people\n",
       "0  Google  27.82       87  845.0  larray page\n",
       "1     WMT  -1.00      484   65.0   sam walton\n",
       "2    TATA   5.60       -1    NaN   ratan tata"
      ]
     },
     "execution_count": 7,
     "metadata": {},
     "output_type": "execute_result"
    }
   ],
   "source": [
    "import pandas as pd\n",
    "\n",
    "def convertPeopleCell(cell):\n",
    "    if (cell == \"n.a.\"):\n",
    "        return \"sam walton\"\n",
    "    return cell\n",
    "\n",
    "def convertPriceCell(cell):\n",
    "    if (cell == \"n.a.\"):\n",
    "        return None\n",
    "    return cell\n",
    "\n",
    "\n",
    "df = pd.read_excel(\"E:\\Programming\\AI\\ML\\Codebasics Pandas\\dataRead.xlsx\", converters = {\n",
    "    \"people\": convertPeopleCell,\n",
    "    \"price\": convertPriceCell\n",
    "})\n",
    "df"
   ]
  },
  {
   "cell_type": "code",
   "execution_count": 11,
   "id": "f88dc649",
   "metadata": {},
   "outputs": [],
   "source": [
    "df.to_excel(\"new.xlsx\", sheet_name=\"stocks\", startrow=1, startcol=2, index=False)"
   ]
  },
  {
   "cell_type": "code",
   "execution_count": 17,
   "id": "10760a05",
   "metadata": {},
   "outputs": [],
   "source": [
    "import pandas as pd\n",
    "\n",
    "employees = [\n",
    "    ['Name', 'Age', 'Department', 'Salary'],\n",
    "    ['Shah Sayem', 24, 'IT', 50000],\n",
    "    ['Alal', 34, 'Sales', 60000],\n",
    "    ['Shafkath', 45, 'HR', 65000],\n",
    "    ['Ohi', 40, 'IT', 70000],\n",
    "]\n",
    "\n",
    "df_employee = pd.DataFrame(employees)\n",
    "\n",
    "weather = {\n",
    "    \"Day\": [\"2024-06-01\", \"2024-06-02\", \"2024-06-03\", \"2024-06-04\", \"2024-06-05\"],\n",
    "    \"Temperature\": [22.77734553, 22.58245095, 26.68078354, 20.84912108, 22.44228565],\n",
    "    \"Humidity\": [77.93585873, 78.23998996, 59.08023285, 61.59604643, 52.21073244],\n",
    "    \"Conditions\": [\"Cloudy\", \"Stormy\", \"Cloudy\", \"Stormy\", \"Sunny\"]\n",
    "}\n",
    "\n",
    "df_weather = pd.DataFrame(weather)\n",
    "\n",
    "with pd.ExcelWriter(\"employeesWeather.xlsx\") as writer:\n",
    "    df_employee.to_excel(writer, sheet_name=\"employee\")    \n",
    "    df_weather.to_excel(writer, sheet_name=\"weather\")"
   ]
  },
  {
   "cell_type": "code",
   "execution_count": null,
   "id": "f4372528",
   "metadata": {},
   "outputs": [],
   "source": []
  }
 ],
 "metadata": {
  "kernelspec": {
   "display_name": "Python 3 (ipykernel)",
   "language": "python",
   "name": "python3"
  },
  "language_info": {
   "codemirror_mode": {
    "name": "ipython",
    "version": 3
   },
   "file_extension": ".py",
   "mimetype": "text/x-python",
   "name": "python",
   "nbconvert_exporter": "python",
   "pygments_lexer": "ipython3",
   "version": "3.11.7"
  }
 },
 "nbformat": 4,
 "nbformat_minor": 5
}
